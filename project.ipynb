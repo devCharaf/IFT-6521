{
 "cells": [
  {
   "cell_type": "markdown",
   "id": "24dd6613-ac0b-4a88-83b3-1f45ecbefe70",
   "metadata": {},
   "source": [
    "# Imports"
   ]
  },
  {
   "cell_type": "code",
   "execution_count": null,
   "id": "6938a9e2-6764-49ec-96c6-7c484d7aeabb",
   "metadata": {},
   "outputs": [],
   "source": [
    "# pip install scipy"
   ]
  },
  {
   "cell_type": "code",
   "execution_count": 670,
   "id": "8917f089-109c-450d-8468-c77b424cc185",
   "metadata": {},
   "outputs": [],
   "source": [
    "import numpy as np\n",
    "import random as rd\n",
    "import matplotlib.pyplot as plt\n",
    "import plotly.express as px\n",
    "import plotly.graph_objects as go\n",
    "import seaborn as sns\n",
    "from scipy import integrate"
   ]
  },
  {
   "cell_type": "markdown",
   "id": "d653ffdc-f198-4e06-83d3-64db400783e4",
   "metadata": {},
   "source": [
    "# Model Parameters"
   ]
  },
  {
   "cell_type": "code",
   "execution_count": 831,
   "id": "6dd51691-ee89-4358-a5bb-3617880c295c",
   "metadata": {},
   "outputs": [],
   "source": [
    "# problem parameters\n",
    "N = 100             # stages\n",
    "iterationNumb = 100 # iterations for MCS\n",
    "r_p = 1.01          # discount rate\n",
    "r_m = 0.99\n",
    "C = 600             # Business ticket price\n",
    "pp = 1              # probability free spot at stage k=0\n",
    "# Gaussian parameters\n",
    "mu = 200            # mean price in dollars\n",
    "sigma = 50          # std deviation of price\n",
    "q = 0.8             # probability to controll discount rate"
   ]
  },
  {
   "cell_type": "markdown",
   "id": "da5a4041-30eb-4834-9cf7-0c5bbb82610e",
   "metadata": {},
   "source": [
    "# Exact Method\n",
    "\n",
    "we start by generating $N$ normaly ditributed variables $\\omega_k\\sim\\mathcal{N}\\left(\\mu_k,\\sigma_k\\right)$ with $\\mu_k=\\mu\\cdot r^k$ and $\\sigma_k = \\frac{\\sigma}{k}$."
   ]
  },
  {
   "cell_type": "code",
   "execution_count": 832,
   "id": "3aeda331-c49e-4779-9972-2d98c912e576",
   "metadata": {},
   "outputs": [],
   "source": [
    "def normalOmega(loc, scale, n, seed=1234):\n",
    "    # We fix the seed to reproduce same results\n",
    "    np.random.seed(seed)\n",
    "    omega = np.array([])\n",
    "    r_pp = np.random.binomial(1, q, n)\n",
    "    \n",
    "    # Gaussian parameters\n",
    "    # mu_arr = np.array([loc * (((r_p-r_m)*r_pp[k]+r_m)**(k+1)) for k in range(n)])\n",
    "    mm = [loc]* n\n",
    "    for k in range(1,n):\n",
    "        mm[k] = mm[k-1] * (((r_p-r_m)*r_pp[k]+r_m))\n",
    "    mu_arr = np.array([mm[k] for k in range(n)])\n",
    "    sigma_arr = np.array([scale/np.sqrt(k+1) for k in range(n)])\n",
    "    \n",
    "    np.random.seed(seed)\n",
    "    omega = np.append(omega, [np.round_(np.random.normal(mu_arr[k], sigma_arr[k], 1), 2) for k in range(n)])\n",
    "    \n",
    "    return omega, mu_arr, sigma_arr"
   ]
  },
  {
   "cell_type": "code",
   "execution_count": 833,
   "id": "2f81cbca-677d-4bae-a816-7e6c347aa079",
   "metadata": {},
   "outputs": [
    {
     "data": {
      "text/plain": [
       "array([223.57, 159.89, 245.38, 198.24, 192.01, 228.31, 228.55, 198.93,\n",
       "       208.34, 170.54, 225.4 , 224.46, 225.46, 187.35, 212.19, 218.7 ,\n",
       "       225.77, 226.47, 240.45, 205.75, 223.06, 220.53, 231.82, 237.75,\n",
       "       242.96, 227.48, 240.9 , 219.57, 237.41, 251.17, 235.51, 244.46,\n",
       "       248.18, 250.42, 251.17, 245.29, 249.79, 243.66, 255.48, 265.16,\n",
       "       249.31, 246.84, 253.99, 240.61, 260.67, 254.79, 263.02, 266.79,\n",
       "       274.72, 273.54, 280.63, 267.46, 270.63, 282.38, 282.2 , 282.07,\n",
       "       288.21, 282.78, 283.86, 292.96, 279.57, 288.22, 293.5 , 293.17,\n",
       "       303.83, 285.62, 315.8 , 293.43, 304.64, 310.61, 304.8 , 315.28,\n",
       "       319.8 , 321.88, 316.68, 330.32, 323.29, 318.69, 332.02, 331.97,\n",
       "       337.65, 318.74, 342.29, 339.22, 342.66, 342.87, 352.75, 350.4 ,\n",
       "       350.04, 359.43, 356.03, 357.08, 357.43, 356.12, 366.91, 365.93,\n",
       "       368.26, 368.98, 364.6 , 371.12])"
      ]
     },
     "execution_count": 833,
     "metadata": {},
     "output_type": "execute_result"
    }
   ],
   "source": [
    "omega, mu_arr, sigma_arr = normalOmega(mu, sigma, N)\n",
    "omega"
   ]
  },
  {
   "cell_type": "markdown",
   "id": "668641af-83c5-4778-bb7e-083433c5f6c4",
   "metadata": {},
   "source": [
    "We define our probybility function, the probability of a free spot in the plane (economy section). We define $p(k)$ such that $p(k)>p(k+1)$."
   ]
  },
  {
   "cell_type": "code",
   "execution_count": 834,
   "id": "2775ab82-6344-41d2-9e59-2f4e854ddc30",
   "metadata": {},
   "outputs": [],
   "source": [
    "def p(k):\n",
    "    return pp/(k+1)"
   ]
  },
  {
   "cell_type": "markdown",
   "id": "ff393e03-a26d-45e2-b124-dbdcb055f229",
   "metadata": {},
   "source": [
    "We compute our $\\alpha_k$ to help compute the cost-to-go funtion as,\n",
    "\\begin{equation}\n",
    "    \\alpha_k = \\left\\{\n",
    "            \\begin{array}{ll}\n",
    "                C & \\text{if } k = N\\\\\n",
    "                \\mathbb{E}\\left[p(N-1)\\min\\left\\{\\omega_{N-1},C\\right\\} + (1-p(N-1))C\\right] & \\text{if } k = N-1\\\\\n",
    "                p(k)\\mathbb{E}_{\\omega_k}\\left[\\min\\left\\{\\omega_k,\\alpha_{k+1}\\right\\}\\right] + (1-p(k))\\mathbb{E}_{\\omega_k}\\left[\\min\\left\\{C,\\alpha_{k+1}\\right\\}\\right] & \\text{otherwise}.\n",
    "            \\end{array}\n",
    "        \\right.\n",
    "\\end{equation}"
   ]
  },
  {
   "cell_type": "code",
   "execution_count": 835,
   "id": "d644e0d9-0944-464b-b242-b23169e4892c",
   "metadata": {},
   "outputs": [],
   "source": [
    "alpha = np.zeros((N,), dtype=np.float64)\n",
    "alpha[N-1] = C\n",
    "\n",
    "for k in range(N-2,-1,-1):\n",
    "    integrand = lambda x:  min(x, alpha[k+1]) * np.exp(- 1/2 * ((x - mu_arr[k])/sigma_arr[k])**2) / (sigma_arr[k]*np.sqrt(2*np.pi))\n",
    "    expected_min = integrate.quad(integrand, -np.Inf, np.Inf)[0]\n",
    "    \n",
    "    alpha[k] = np.round_(p(k) * expected_min + (1-p(k)) * min(C, alpha[k+1]), 2)"
   ]
  },
  {
   "cell_type": "code",
   "execution_count": 836,
   "id": "da71e3b8-1fd3-41a4-9e06-e99c2ec32b4c",
   "metadata": {},
   "outputs": [
    {
     "data": {
      "text/plain": [
       "array([ 36.38,  36.39,  36.39,  36.39,  36.39,  36.39,  36.39,  42.46,\n",
       "        48.52,  54.59,  60.65,  66.72,  72.78,  78.84,  84.9 ,  90.96,\n",
       "        97.02, 103.08, 109.14, 115.2 , 121.26, 127.32, 133.38, 139.44,\n",
       "       145.5 , 151.56, 157.62, 163.68, 169.74, 175.8 , 181.86, 187.92,\n",
       "       193.98, 200.04, 206.1 , 212.16, 218.22, 224.28, 230.34, 236.4 ,\n",
       "       242.46, 248.52, 254.58, 260.64, 266.7 , 272.76, 278.82, 284.88,\n",
       "       290.94, 297.  , 303.06, 309.12, 315.18, 321.24, 327.3 , 333.36,\n",
       "       339.42, 345.48, 351.54, 357.6 , 363.66, 369.72, 375.78, 381.84,\n",
       "       387.9 , 393.96, 400.02, 406.08, 412.14, 418.2 , 424.26, 430.32,\n",
       "       436.38, 442.44, 448.5 , 454.56, 460.62, 466.68, 472.74, 478.8 ,\n",
       "       484.86, 490.92, 496.98, 503.04, 509.1 , 515.16, 521.22, 527.28,\n",
       "       533.34, 539.4 , 545.46, 551.52, 557.58, 563.64, 569.7 , 575.76,\n",
       "       581.82, 587.88, 593.94, 600.  ])"
      ]
     },
     "execution_count": 836,
     "metadata": {},
     "output_type": "execute_result"
    }
   ],
   "source": [
    "alpha"
   ]
  },
  {
   "cell_type": "markdown",
   "id": "c2a1a7e1-506a-4f65-bdac-361fab220d69",
   "metadata": {},
   "source": [
    "#### Dynamic programming solution\n",
    "\n",
    "We use backward chaining to compute the cost-to-go starting from $k=N$,\n",
    "\\begin{equation}\n",
    "    \\hat{J}_{k}(\\tilde{x}_k) = p(k-1)\\min\\left\\{\\omega_{k-1},\\alpha_k\\right\\} + (1-p(k-1))\\min\\left\\{C,\\alpha_k\\right\\}.\n",
    "\\end{equation}"
   ]
  },
  {
   "cell_type": "code",
   "execution_count": 837,
   "id": "86d0c00f-1f60-421c-8a09-df86f34e39c8",
   "metadata": {},
   "outputs": [],
   "source": [
    "iterationNumb = 1000\n",
    "lapTime = np.zeros((iterationNumb,), dtype=np.float64)\n",
    "exitLap = np.zeros((iterationNumb,), dtype=np.int64)\n",
    "\n",
    "for i in range(iterationNumb):\n",
    "    \n",
    "    # generate random variables omega\n",
    "    omega, mu_arr, sigma_arr = normalOmega(mu, sigma, N, i**2) #i**2\n",
    "\n",
    "    J = np.zeros((N,), dtype=np.float64)\n",
    "    u = np.zeros((N,), dtype=np.int64)\n",
    "\n",
    "    # J[-1] = omega[-1]\n",
    "    # u[-1] = 1\n",
    "\n",
    "    # exit index\n",
    "    exit = N\n",
    "\n",
    "    for k in reversed(range(1,N+1)):\n",
    "        J[k-1] = p(k-1) * min(omega[k-1], alpha[k-1]) + (1-p(k-1)) * min(C, alpha[k-1])\n",
    "        u[k-1] = (omega[k-1] <= alpha[k-1] or C <= alpha[k-1])\n",
    "\n",
    "        # memorize exiting index\n",
    "        if u[k-1] == 1:\n",
    "            exit = k-1\n",
    "\n",
    "    # setting u to zeo after first u = 1\n",
    "    if exit < N:\n",
    "        u[exit+1:] = 0\n",
    "        \n",
    "    lapTime[i] = np.dot(J, u)\n",
    "    exitLap[i] = 1 + np.argmax(u)"
   ]
  },
  {
   "cell_type": "code",
   "execution_count": 838,
   "id": "8b467492-c30a-49cf-9054-4ce550cff88e",
   "metadata": {},
   "outputs": [
    {
     "name": "stdout",
     "output_type": "stream",
     "text": [
      "Average time: 256.70314202423884\n"
     ]
    }
   ],
   "source": [
    "print(f'Average time: {np.mean(lapTime)}')"
   ]
  },
  {
   "cell_type": "code",
   "execution_count": 839,
   "id": "ea6214d5-f385-4e9a-aa02-96e2d20fff72",
   "metadata": {},
   "outputs": [
    {
     "data": {
      "text/plain": [
       "array([35, 36, 37, 38, 39, 40, 41, 42, 43, 44, 45, 46, 47, 48, 49, 50, 51,\n",
       "       52, 53, 54, 55])"
      ]
     },
     "execution_count": 839,
     "metadata": {},
     "output_type": "execute_result"
    }
   ],
   "source": [
    "# exitLap\n",
    "unique, counts = np.unique(exitLap, return_counts=True)\n",
    "counts\n",
    "unique"
   ]
  },
  {
   "cell_type": "code",
   "execution_count": 841,
   "id": "1113e779-b562-4ae3-a835-d913d20a54bb",
   "metadata": {},
   "outputs": [
    {
     "data": {
      "image/png": "[encoded data removed]",
      "text/plain": [
       "<Figure size 432x288 with 1 Axes>"
      ]
     },
     "metadata": {
      "needs_background": "light"
     },
     "output_type": "display_data"
    }
   ],
   "source": [
    "fig = plt.figure()\n",
    "plt.plot(unique, counts, '-o')\n",
    "\n",
    "fig.suptitle('#1000 simulation', fontsize=20)\n",
    "plt.xlabel('lap', fontsize=18)\n",
    "plt.ylabel('count', fontsize=16)\n",
    "fig.savefig('plt1.jpg')\n",
    "\n",
    "plt.show()"
   ]
  },
  {
   "cell_type": "markdown",
   "id": "ac5c91c6-90e3-46a8-9fb4-85d6336c17db",
   "metadata": {},
   "source": [
    "# Approximate Method"
   ]
  },
  {
   "cell_type": "markdown",
   "id": "44b04500-37b5-44b9-85ad-e9782577ae91",
   "metadata": {},
   "source": [
    "##### Q = 10            # number of samples\n",
    "size = 100"
   ]
  },
  {
   "cell_type": "code",
   "execution_count": null,
   "id": "8500b08f-0a8c-4c45-b54d-2dde92ccfd6a",
   "metadata": {},
   "outputs": [],
   "source": [
    "def linearArchitecture(N, Q, loc, scale, r, l=2):\n",
    "    k = N-1\n",
    "    r_hat = np.zeros((N+1,3))\n",
    "    r_hat[-1] = [1, 1, 1]\n",
    "    while k >= 0:\n",
    "        s = 1\n",
    "        beta_k = np.zeros(Q)\n",
    "        phi_k = np.zeros((Q, size, l+1))\n",
    "        x_k_s = np.zeros(Q)\n",
    "        phi_ks = np.zeros((Q, l+1))\n",
    "        while s <= Q:\n",
    "            omega = np.round_(np.random.normal(loc * (r**(k+1)), scale/(k+1), size), 2)\n",
    "            p_k = p/(k+1)\n",
    "            x_k_s[s-1] = np.random.normal(loc * (r**(k+1)), scale/(k+1))\n",
    "            phi_ks[s-1] = np.array([x_k_s[s-1] ** i for i in range(l+1)])\n",
    "            g_k_s = p_k*x_k_s[s-1] + (1-p_k)*C\n",
    "            phi_k[s-1] = np.array([(omega ** i).tolist() for i in range(l+1)]).T\n",
    "            beta_k_s = np.mean(np.minimum(g_k_s, np.dot(phi_k[s-1], r_hat[k+1])), axis=0)\n",
    "            beta_k[s-1] = beta_k_s\n",
    "            s = s+1\n",
    "        r_k = 1/(np.sum(np.dot(phi_ks.T, phi_ks))) * np.sum(np.dot(beta_k, phi_ks))\n",
    "        r_hat[k] = r_k\n",
    "        k = k-1\n",
    "    return r_hat"
   ]
  },
  {
   "cell_type": "code",
   "execution_count": null,
   "id": "76d51252-4d53-4409-8dc7-935b26ea398c",
   "metadata": {},
   "outputs": [],
   "source": [
    "linearArchitecture(N, Q, mu, sigma, r, l=2)"
   ]
  },
  {
   "cell_type": "code",
   "execution_count": null,
   "id": "523110fc-9c00-4080-90f4-098a8e55c4f2",
   "metadata": {},
   "outputs": [],
   "source": [
    "print(\"done\")"
   ]
  },
  {
   "cell_type": "code",
   "execution_count": null,
   "id": "688706ca-80e4-47b5-a132-d6d77488eb0a",
   "metadata": {},
   "outputs": [],
   "source": [
    "y = np.array([[i**2, 1] for i in range(5)], dtype=int)\n",
    "y"
   ]
  },
  {
   "cell_type": "code",
   "execution_count": null,
   "id": "0d2b8525-64c0-4abd-b375-f8ef340c69f8",
   "metadata": {},
   "outputs": [],
   "source": [
    "x = np.array([[2, 2, 2], [1, 1, 1]])\n",
    "y = np.array([1, 2])\n",
    "np.dot(x,y,axis=0)"
   ]
  },
  {
   "cell_type": "code",
   "execution_count": null,
   "id": "2662f017-539b-4b88-95a8-658d6ffc572b",
   "metadata": {},
   "outputs": [],
   "source": [
    "import jax.numpy as jnp"
   ]
  },
  {
   "cell_type": "code",
   "execution_count": null,
   "id": "8c9a004c-dc43-4288-9a0c-0c1dbc9878df",
   "metadata": {},
   "outputs": [],
   "source": [
    "pip install scipy"
   ]
  },
  {
   "cell_type": "code",
   "execution_count": null,
   "id": "261d5c16-2df2-4a0d-8b78-f8cbb22ec7ec",
   "metadata": {},
   "outputs": [],
   "source": []
  },
  {
   "cell_type": "code",
   "execution_count": null,
   "id": "f77c135e-f5c5-4d5f-983c-b4b1698b7871",
   "metadata": {},
   "outputs": [],
   "source": [
    "integrand = lambda x:  min(x, a) * np.exp(- 1/2 * ((x - mu)/sigma)**2)/(sigma*np.sqrt(2*np.pi))\n",
    "integrate.quad(integrand, -np.Inf, np.Inf)"
   ]
  },
  {
   "cell_type": "code",
   "execution_count": null,
   "id": "ec5ddbc1-4ede-4f27-b8e4-dbf189dbc134",
   "metadata": {},
   "outputs": [],
   "source": [
    "a = 1"
   ]
  },
  {
   "cell_type": "code",
   "execution_count": null,
   "id": "0a1f1822-17e1-477f-8b7c-deac0ab1e351",
   "metadata": {},
   "outputs": [],
   "source": [
    "np.Inf"
   ]
  },
  {
   "cell_type": "code",
   "execution_count": null,
   "id": "ef5aec05-1129-418e-b09a-86ac28c4e4f1",
   "metadata": {},
   "outputs": [],
   "source": [
    "np.pi"
   ]
  },
  {
   "cell_type": "code",
   "execution_count": 344,
   "id": "2788e42e-894e-46e2-a82e-d0ff76b500d9",
   "metadata": {},
   "outputs": [
    {
     "data": {
      "text/plain": [
       "array([1, 0, 1, 0, 0, 1, 1, 0, 0, 0])"
      ]
     },
     "execution_count": 344,
     "metadata": {},
     "output_type": "execute_result"
    }
   ],
   "source": [
    "np.random.seed(1234)\n",
    "np.random.binomial(1, 0.6, 10)"
   ]
  },
  {
   "cell_type": "code",
   "execution_count": null,
   "id": "f8429639-a9dc-4759-a37f-dc3fc48985c5",
   "metadata": {},
   "outputs": [],
   "source": []
  },
  {
   "cell_type": "code",
   "execution_count": null,
   "id": "449a7f63-1e9c-48fb-9bce-931df0e7ab62",
   "metadata": {},
   "outputs": [],
   "source": []
  }
 ],
 "metadata": {
  "kernelspec": {
   "display_name": "Python 3 (ipykernel)",
   "language": "python",
   "name": "python3"
  },
  "language_info": {
   "codemirror_mode": {
    "name": "ipython",
    "version": 3
   },
   "file_extension": ".py",
   "mimetype": "text/x-python",
   "name": "python",
   "nbconvert_exporter": "python",
   "pygments_lexer": "ipython3",
   "version": "3.9.10"
  }
 },
 "nbformat": 4,
 "nbformat_minor": 5
}
