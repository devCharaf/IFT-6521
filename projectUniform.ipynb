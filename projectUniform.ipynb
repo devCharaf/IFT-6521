{
 "cells": [
  {
   "cell_type": "markdown",
   "id": "24dd6613-ac0b-4a88-83b3-1f45ecbefe70",
   "metadata": {},
   "source": [
    "# Imports"
   ]
  },
  {
   "cell_type": "code",
   "execution_count": null,
   "id": "6938a9e2-6764-49ec-96c6-7c484d7aeabb",
   "metadata": {},
   "outputs": [],
   "source": [
    "# pip install scipy"
   ]
  },
  {
   "cell_type": "code",
   "execution_count": 251,
   "id": "8917f089-109c-450d-8468-c77b424cc185",
   "metadata": {},
   "outputs": [],
   "source": [
    "import numpy as np\n",
    "import random as rd\n",
    "import matplotlib.pyplot as plt\n",
    "import plotly.express as px\n",
    "import plotly.graph_objects as go\n",
    "import seaborn as sns\n",
    "from scipy import integrate\n",
    "import time"
   ]
  },
  {
   "cell_type": "markdown",
   "id": "d653ffdc-f198-4e06-83d3-64db400783e4",
   "metadata": {},
   "source": [
    "# Model Parameters"
   ]
  },
  {
   "cell_type": "code",
   "execution_count": 253,
   "id": "6dd51691-ee89-4358-a5bb-3617880c295c",
   "metadata": {},
   "outputs": [],
   "source": [
    "# problem parameters\n",
    "N = 100              # stages\n",
    "iterationNumb = 1000 # iterations for MCS\n",
    "C = 600             # Business ticket price\n",
    "# Uniform parameters\n",
    "a = 200\n",
    "b = C\n",
    "q = 2 ** (1/(N-1))"
   ]
  },
  {
   "cell_type": "markdown",
   "id": "da5a4041-30eb-4834-9cf7-0c5bbb82610e",
   "metadata": {},
   "source": [
    "# Exact Method\n",
    "\n",
    "We start by generating $N$ normaly ditributed variables $\\omega_k\\sim\\mathcal{U}\\left(a_k,b\\right)$ with $a_k=a\\cdot q^k$ and $q = 400^{1/(N-1)}$."
   ]
  },
  {
   "cell_type": "code",
   "execution_count": 254,
   "id": "3aeda331-c49e-4779-9972-2d98c912e576",
   "metadata": {},
   "outputs": [],
   "source": [
    "def uniformOmega(a, b, n, seed=1234):\n",
    "    # We fix the seed to reproduce same results\n",
    "    np.random.seed(seed)\n",
    "    a_arr = np.array([a*q**(k) for k in range(N)])\n",
    "    omega = np.array([])\n",
    "    omega = np.array([np.round_(np.random.uniform(a_arr[k], b, 1), 2) for k in range(n)]).reshape((n,))\n",
    "    \n",
    "    return omega, a_arr"
   ]
  },
  {
   "cell_type": "code",
   "execution_count": 255,
   "id": "2f81cbca-677d-4bae-a816-7e6c347aa079",
   "metadata": {},
   "outputs": [
    {
     "data": {
      "text/plain": [
       "array([276.61, 449.37, 376.68, 515.05, 513.24, 314.22, 316.79, 522.74,\n",
       "       583.74, 551.99, 352.44, 408.39, 478.93, 490.56, 361.07, 434.2 ,\n",
       "       413.01, 230.44, 515.23, 556.4 , 365.05, 458.34, 260.95, 369.59,\n",
       "       575.7 , 473.89, 382.95, 524.28, 356.33, 446.69, 553.77, 401.8 ,\n",
       "       530.8 , 302.02, 497.6 , 498.24, 332.31, 574.39, 410.86, 569.42,\n",
       "       284.7 , 327.96, 284.08, 492.79, 467.1 , 447.89, 290.03, 458.75,\n",
       "       385.42, 441.87, 319.21, 476.59, 464.5 , 291.96, 482.13, 573.1 ,\n",
       "       536.32, 597.61, 587.65, 538.07, 388.73, 489.93, 447.98, 367.45,\n",
       "       422.77, 330.6 , 445.08, 594.96, 356.42, 357.14, 528.49, 488.07,\n",
       "       457.92, 361.98, 396.34, 573.8 , 448.65, 480.67, 346.89, 423.57,\n",
       "       459.32, 504.06, 579.97, 509.28, 529.48, 398.21, 540.38, 560.75,\n",
       "       515.89, 472.47, 409.81, 504.28, 496.62, 589.49, 488.92, 495.02,\n",
       "       503.53, 562.83, 408.79, 533.88])"
      ]
     },
     "execution_count": 255,
     "metadata": {},
     "output_type": "execute_result"
    }
   ],
   "source": [
    "omega, a_arr = uniformOmega(a, b, N)\n",
    "omega"
   ]
  },
  {
   "cell_type": "markdown",
   "id": "ff393e03-a26d-45e2-b124-dbdcb055f229",
   "metadata": {},
   "source": [
    "We compute our $\\alpha_k$ to help compute the cost-to-go funtion as,\n",
    "\\begin{equation}\n",
    "    \\alpha_k = \\left\\{\n",
    "            \\begin{array}{ll}\n",
    "                C & \\text{if } k = N\\\\\n",
    "                \\mathbb{E}_{\\omega_k}\\left[\\min\\left\\{\\omega_k,\\alpha_{k+1}\\right\\}\\right] & \\text{otherwise}.\n",
    "            \\end{array}\n",
    "        \\right.\n",
    "\\end{equation}"
   ]
  },
  {
   "cell_type": "code",
   "execution_count": 256,
   "id": "d644e0d9-0944-464b-b242-b23169e4892c",
   "metadata": {},
   "outputs": [],
   "source": [
    "def computeAlpha(a, b, a_arr):\n",
    "    alpha = np.zeros((N,), dtype=np.float64)\n",
    "    alpha[-1] = C\n",
    "\n",
    "    for k in range(N-1,0,-1):\n",
    "        \n",
    "        integrand = lambda x:  min(x, alpha[k]) / (b-a_arr[k])\n",
    "        expected_min = integrate.quad(integrand, a_arr[k], b)[0]\n",
    "\n",
    "        alpha[k-1] = np.round_(expected_min, 2)\n",
    "    \n",
    "    return alpha"
   ]
  },
  {
   "cell_type": "code",
   "execution_count": 257,
   "id": "da71e3b8-1fd3-41a4-9e06-e99c2ec32b4c",
   "metadata": {},
   "outputs": [
    {
     "data": {
      "text/plain": [
       "array([234.01, 235.46, 236.92, 238.39, 239.87, 241.36, 242.86, 244.37,\n",
       "       245.89, 247.42, 248.96, 250.51, 252.07, 253.64, 255.22, 256.81,\n",
       "       258.41, 260.02, 261.64, 263.27, 264.91, 266.56, 268.22, 269.89,\n",
       "       271.57, 273.26, 274.96, 276.67, 278.4 , 280.14, 281.89, 283.65,\n",
       "       285.42, 287.2 , 288.99, 290.79, 292.6 , 294.43, 296.27, 298.12,\n",
       "       299.98, 301.85, 303.73, 305.63, 307.54, 309.46, 311.39, 313.33,\n",
       "       315.29, 317.26, 319.24, 321.24, 323.25, 325.27, 327.31, 329.36,\n",
       "       331.42, 333.5 , 335.59, 337.69, 339.81, 341.94, 344.09, 346.25,\n",
       "       348.43, 350.63, 352.84, 355.07, 357.32, 359.59, 361.88, 364.19,\n",
       "       366.52, 368.88, 371.26, 373.67, 376.11, 378.59, 381.11, 383.67,\n",
       "       386.28, 388.95, 391.68, 394.49, 397.39, 400.39, 403.52, 406.8 ,\n",
       "       410.27, 413.98, 417.99, 422.39, 427.31, 432.95, 439.62, 447.83,\n",
       "       458.57, 473.95, 500.  , 600.  ])"
      ]
     },
     "execution_count": 257,
     "metadata": {},
     "output_type": "execute_result"
    }
   ],
   "source": [
    "alpha = computeAlpha(a, b, a_arr)\n",
    "alpha"
   ]
  },
  {
   "cell_type": "markdown",
   "id": "c2a1a7e1-506a-4f65-bdac-361fab220d69",
   "metadata": {},
   "source": [
    "#### Dynamic programming solution\n",
    "\n",
    "We use backward chaining to compute the cost-to-go starting from $k=N$,\n",
    "\\begin{equation}\n",
    "    {J}_{k}({x}_k) = \\left\\{\n",
    "            \\begin{array}{ll}\n",
    "                C & \\text{if } k = N\\\\\n",
    "                \\min\\left\\{\\omega_{k},\\alpha_k\\right\\} & \\text{otherwise}.\n",
    "            \\end{array}\n",
    "        \\right.\n",
    "\\end{equation}"
   ]
  },
  {
   "cell_type": "code",
   "execution_count": 258,
   "id": "86d0c00f-1f60-421c-8a09-df86f34e39c8",
   "metadata": {},
   "outputs": [
    {
     "name": "stdout",
     "output_type": "stream",
     "text": [
      "exact method time: 1.5487308502197266\n"
     ]
    }
   ],
   "source": [
    "buyingPrice = np.zeros((iterationNumb,), dtype=np.float64)\n",
    "exitTime = np.zeros((iterationNumb,), dtype=np.int64)\n",
    "t = time.time()\n",
    "\n",
    "for i in range(iterationNumb):\n",
    "    \n",
    "    # generate random variables omega\n",
    "    omega, a_arr = uniformOmega(a, b, N, i**2) #i**2\n",
    "\n",
    "    J = np.zeros((N+1,), dtype=np.float64)\n",
    "    u = np.zeros((N+1,), dtype=np.int64)\n",
    "\n",
    "    J[-1] = C\n",
    "    u[-1] = 1\n",
    "\n",
    "    # exit index\n",
    "    exit = N\n",
    "    # alpha = computeAlpha(a, b, a_arr)\n",
    "    for k in reversed(range(0,N)):\n",
    "        J[k] = min(omega[k], alpha[k])\n",
    "        u[k] = (omega[k] <= alpha[k])\n",
    "\n",
    "        # memorize exiting index\n",
    "        if u[k] == 1:\n",
    "            exit = k\n",
    "\n",
    "    # setting u to zeo after first u = 1\n",
    "    if exit < N:\n",
    "        u[exit+1:] = 0\n",
    "        \n",
    "    buyingPrice[i] = np.dot(J, u)\n",
    "    exitTime[i] = 1 + np.argmax(u)\n",
    "    \n",
    "print(f\"exact method time: {time.time() -t}\")"
   ]
  },
  {
   "cell_type": "code",
   "execution_count": 219,
   "id": "8b467492-c30a-49cf-9054-4ce550cff88e",
   "metadata": {},
   "outputs": [
    {
     "name": "stdout",
     "output_type": "stream",
     "text": [
      "Average time: 232.54 $\n"
     ]
    }
   ],
   "source": [
    "print(f'Average time: {np.round_(np.mean(buyingPrice), 2)} $')"
   ]
  },
  {
   "cell_type": "code",
   "execution_count": 220,
   "id": "ea6214d5-f385-4e9a-aa02-96e2d20fff72",
   "metadata": {},
   "outputs": [
    {
     "data": {
      "text/plain": [
       "array([ 1,  2,  3,  4,  5,  6,  7,  8,  9, 10, 11, 12, 13, 14, 15, 16, 17,\n",
       "       18, 19, 20, 21, 22, 23, 24, 25, 26, 27, 28, 29, 30, 31, 32, 33, 34,\n",
       "       35, 36, 37, 38, 39, 40, 41, 42, 43, 44, 45, 46, 47, 48, 49, 50, 51,\n",
       "       52, 53, 54, 55, 56, 57, 58, 59, 60, 61, 62, 64, 65, 66, 68, 70, 72,\n",
       "       76, 82, 84])"
      ]
     },
     "execution_count": 220,
     "metadata": {},
     "output_type": "execute_result"
    }
   ],
   "source": [
    "# exitLap\n",
    "unique, counts = np.unique(exitTime, return_counts=True)\n",
    "counts\n",
    "unique"
   ]
  },
  {
   "cell_type": "code",
   "execution_count": 221,
   "id": "1113e779-b562-4ae3-a835-d913d20a54bb",
   "metadata": {},
   "outputs": [
    {
     "data": {
      "image/png": "[encoded data removed]",
      "text/plain": [
       "<Figure size 432x288 with 1 Axes>"
      ]
     },
     "metadata": {
      "needs_background": "light"
     },
     "output_type": "display_data"
    }
   ],
   "source": [
    "fig = plt.figure()\n",
    "plt.plot(unique, counts, 'o')\n",
    "\n",
    "fig.suptitle('#10 000 simulation', fontsize=20)\n",
    "plt.xlabel('day', fontsize=18)\n",
    "plt.ylabel('count', fontsize=16)\n",
    "fig.savefig('plt3.jpg')\n",
    "\n",
    "plt.show()"
   ]
  },
  {
   "cell_type": "code",
   "execution_count": 222,
   "id": "b6044b98-594f-4d9f-9720-6f7c946ae53e",
   "metadata": {},
   "outputs": [
    {
     "data": {
      "text/plain": [
       "11.2291"
      ]
     },
     "execution_count": 222,
     "metadata": {},
     "output_type": "execute_result"
    }
   ],
   "source": [
    "np.mean(exitTime)"
   ]
  },
  {
   "cell_type": "markdown",
   "id": "ac5c91c6-90e3-46a8-9fb4-85d6336c17db",
   "metadata": {},
   "source": [
    "# Approximate Method"
   ]
  },
  {
   "cell_type": "markdown",
   "id": "44b04500-37b5-44b9-85ad-e9782577ae91",
   "metadata": {},
   "source": [
    "##### Q = 10            # number of samples\n",
    "size = 100"
   ]
  },
  {
   "cell_type": "code",
   "execution_count": 223,
   "id": "dc29aee5-f8c3-43ce-a828-4a1a7ce13774",
   "metadata": {},
   "outputs": [],
   "source": [
    "Q = 10\n",
    "l = 2\n",
    "size = 100"
   ]
  },
  {
   "cell_type": "code",
   "execution_count": 260,
   "id": "8500b08f-0a8c-4c45-b54d-2dde92ccfd6a",
   "metadata": {},
   "outputs": [
    {
     "name": "stdout",
     "output_type": "stream",
     "text": [
      "parameter method time: 0.0003829002380371094\n"
     ]
    }
   ],
   "source": [
    "t = time.time()\n",
    "def linearArchitecture(N, Q, l=2):\n",
    "    k = N-1\n",
    "    r_hat = np.zeros((N+1,l+1))\n",
    "    r_hat[-1] = [0 for i in range(l+1)]\n",
    "    r_hat[-1, 0] = C\n",
    "    while k >= 0:\n",
    "        s = 1\n",
    "        beta_k = np.zeros(Q)\n",
    "        phi_k = np.zeros((Q, size, l+1))\n",
    "        x_k_s = np.zeros(Q)\n",
    "        phi_ks = np.zeros((Q, l+1))\n",
    "        while s <= Q:\n",
    "            if k == N-1:\n",
    "                omega = np.round_(np.random.uniform(a_arr[k], b, size), 2)\n",
    "            else:\n",
    "                omega = np.round_(np.random.uniform(a_arr[k+1], b, size), 2)\n",
    "            x_k_s[s-1] = np.round_(np.random.uniform(a_arr[k], b), 2)\n",
    "            phi_ks[s-1] = np.array([x_k_s[s-1] ** i for i in range(l+1)])\n",
    "            g_k_s = x_k_s[s-1]\n",
    "            phi_k[s-1] = np.array([(omega ** i).tolist() for i in range(l+1)]).T\n",
    "            beta_k[s-1] = np.mean(np.minimum(g_k_s, np.dot(phi_k[s-1], r_hat[k+1])), axis=0)\n",
    "            s = s+1\n",
    "        #print(f\"k: {k}, x_s: {x_k_s}, beta_k: {beta_k}\")\n",
    "        r_k = np.dot(np.linalg.inv(np.dot(phi_ks.T, phi_ks)), np.dot(beta_k, phi_ks))\n",
    "        r_hat[k] = r_k\n",
    "        # print(f\"k: {k}, r_hat: {r_k}\")\n",
    "        k = k-1\n",
    "    return r_hat\n",
    "print(f\"parameter method time: {time.time() -t}\")"
   ]
  },
  {
   "cell_type": "code",
   "execution_count": 225,
   "id": "76d51252-4d53-4409-8dc7-935b26ea398c",
   "metadata": {},
   "outputs": [],
   "source": [
    "test = linearArchitecture(N, Q, l=1)"
   ]
  },
  {
   "cell_type": "code",
   "execution_count": 226,
   "id": "4cd68f93-0cba-4483-ac34-9ccb12507482",
   "metadata": {},
   "outputs": [],
   "source": [
    "iterationNumb = 10000\n",
    "N = 100\n",
    "l = 1\n",
    "u_iter = np.zeros(iterationNumb)\n",
    "buying_price = np.zeros(iterationNumb)\n",
    "\n",
    "t_online = np.zeros(iterationNumb)\n",
    "t_offline = np.zeros(iterationNumb)"
   ]
  },
  {
   "cell_type": "code",
   "execution_count": 259,
   "id": "449a7f63-1e9c-48fb-9bce-931df0e7ab62",
   "metadata": {},
   "outputs": [
    {
     "name": "stdout",
     "output_type": "stream",
     "text": [
      "exact method time: 91.1372389793396\n"
     ]
    }
   ],
   "source": [
    "t = time.time()\n",
    "for i in range(iterationNumb):  \n",
    "    omega, a_arr = uniformOmega(a, b, N, i**2)\n",
    "    u = np.zeros(N)\n",
    "    k = 0\n",
    "    J_arr = np.zeros(N)\n",
    "    r_hat = linearArchitecture(N, Q, l)\n",
    "    \n",
    "    while k < N:\n",
    "        J = np.dot(r_hat[k], np.array([omega[k] ** i for i in range(l+1)]))\n",
    "        if omega[k] < J:\n",
    "            u[k] = 1 # buy ticket\n",
    "            J_arr[k] = min(omega[k], C)\n",
    "            break\n",
    "        k = k + 1\n",
    "    \n",
    "    # if we don't buy at all, then we buy at the last day\n",
    "    if np.any(u) == 0:\n",
    "        u[-1] = 1\n",
    "        J_arr[-1] = omega[-1]\n",
    "        \n",
    "    u_iter[i] = np.argmax(u)+1\n",
    "    buying_price[i] = np.sum(J_arr*u)\n",
    "\n",
    "print(f\"approximate method time: {time.time() -t}\")"
   ]
  },
  {
   "cell_type": "code",
   "execution_count": 228,
   "id": "f76a3fa7-31e0-4374-9306-bcf0aac01fd1",
   "metadata": {},
   "outputs": [
    {
     "data": {
      "text/plain": [
       "12.1098"
      ]
     },
     "execution_count": 228,
     "metadata": {},
     "output_type": "execute_result"
    }
   ],
   "source": [
    "np.mean(u_iter)"
   ]
  },
  {
   "cell_type": "code",
   "execution_count": 250,
   "id": "03664969-ac97-4088-a44f-35294de0f8c9",
   "metadata": {},
   "outputs": [
    {
     "data": {
      "text/plain": [
       "array([810, 736, 634, 616, 571, 550, 528, 451, 429, 373, 320, 328, 310,\n",
       "       259, 257, 246, 217, 187, 198, 159, 162, 133, 139, 124, 109,  75,\n",
       "       109,  83,  95,  69,  65,  54,  58,  60,  42,  41,  37,  38,  27,\n",
       "        28,  21,  31,  21,  15,  23,  11,  15,  28,   8,  15,   8,   4,\n",
       "        10,   5,   5,  10,   4,   3,   3,   4,   4,   2,   1,   1,   1,\n",
       "         2,   2,   1,   2,   1,   1,   1,   2,   1,   1,   1,   1,   2,\n",
       "         1,   1])"
      ]
     },
     "execution_count": 250,
     "metadata": {},
     "output_type": "execute_result"
    }
   ],
   "source": [
    "unique_approx, counts_approx = np.unique(u_iter, return_counts=True)\n",
    "counts_approx\n",
    "#unique_approx"
   ]
  },
  {
   "cell_type": "code",
   "execution_count": 249,
   "id": "ca1c3c79-6816-42a9-8e6a-d1becd5d2eb7",
   "metadata": {},
   "outputs": [
    {
     "data": {
      "image/png": "[encoded data removed]",
      "text/plain": [
       "<Figure size 432x288 with 1 Axes>"
      ]
     },
     "metadata": {
      "needs_background": "light"
     },
     "output_type": "display_data"
    }
   ],
   "source": [
    "fig = plt.figure()\n",
    "plt.plot(unique_approx, counts_approx, '-', linewidth=4, markersize=12)\n",
    "plt.plot(unique, counts, '--', linewidth=3, markersize=12)\n",
    "\n",
    "fig.suptitle('#10 000 simulation', fontsize=20)\n",
    "plt.xlabel('day', fontsize=18)\n",
    "plt.ylabel('count', fontsize=16)\n",
    "fig.savefig('plt6.jpg')\n",
    "plt.legend(['approximate method', 'exact method'])\n",
    "\n",
    "plt.show()"
   ]
  },
  {
   "cell_type": "code",
   "execution_count": null,
   "id": "df957731-20ad-4d26-adc4-8b5421d09816",
   "metadata": {},
   "outputs": [],
   "source": []
  }
 ],
 "metadata": {
  "kernelspec": {
   "display_name": "Python 3 (ipykernel)",
   "language": "python",
   "name": "python3"
  },
  "language_info": {
   "codemirror_mode": {
    "name": "ipython",
    "version": 3
   },
   "file_extension": ".py",
   "mimetype": "text/x-python",
   "name": "python",
   "nbconvert_exporter": "python",
   "pygments_lexer": "ipython3",
   "version": "3.9.10"
  }
 },
 "nbformat": 4,
 "nbformat_minor": 5
}
