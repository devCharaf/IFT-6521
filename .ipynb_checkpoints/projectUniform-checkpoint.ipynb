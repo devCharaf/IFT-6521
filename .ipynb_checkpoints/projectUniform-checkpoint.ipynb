{
 "cells": [
  {
   "cell_type": "markdown",
   "id": "24dd6613-ac0b-4a88-83b3-1f45ecbefe70",
   "metadata": {},
   "source": [
    "# Imports"
   ]
  },
  {
   "cell_type": "code",
   "execution_count": 1,
   "id": "6938a9e2-6764-49ec-96c6-7c484d7aeabb",
   "metadata": {},
   "outputs": [],
   "source": [
    "# pip install scipy"
   ]
  },
  {
   "cell_type": "code",
   "execution_count": 46,
   "id": "8917f089-109c-450d-8468-c77b424cc185",
   "metadata": {},
   "outputs": [],
   "source": [
    "import numpy as np\n",
    "import random as rd\n",
    "import matplotlib.pyplot as plt\n",
    "import plotly.express as px\n",
    "import plotly.graph_objects as go\n",
    "import seaborn as sns\n",
    "from scipy import integrate\n",
    "import time"
   ]
  },
  {
   "cell_type": "markdown",
   "id": "d653ffdc-f198-4e06-83d3-64db400783e4",
   "metadata": {},
   "source": [
    "# Model Parameters"
   ]
  },
  {
   "cell_type": "code",
   "execution_count": 47,
   "id": "6dd51691-ee89-4358-a5bb-3617880c295c",
   "metadata": {},
   "outputs": [],
   "source": [
    "# problem parameters\n",
    "N = 100              # stages\n",
    "iterationNumb = 100 # iterations for MCS\n",
    "r_p = 1.01          # discount rate\n",
    "r_m = 0.99\n",
    "C = 600             # Business ticket price\n",
    "pp = 1              # probability free spot at stage k=0\n",
    "# Gaussian parameters\n",
    "mu = 200            # mean price in dollars\n",
    "sigma = 50          # std deviation of price\n",
    "q = 0.8             # probability to controll discount rate"
   ]
  },
  {
   "cell_type": "markdown",
   "id": "da5a4041-30eb-4834-9cf7-0c5bbb82610e",
   "metadata": {},
   "source": [
    "# Exact Method\n",
    "\n",
    "we start by generating $N$ normaly ditributed variables $\\omega_k\\sim\\mathcal{N}\\left(\\mu_k,\\sigma_k\\right)$ with $\\mu_k=\\mu\\cdot r^k$ and $\\sigma_k = \\frac{\\sigma}{k}$."
   ]
  },
  {
   "cell_type": "code",
   "execution_count": 48,
   "id": "3aeda331-c49e-4779-9972-2d98c912e576",
   "metadata": {},
   "outputs": [],
   "source": [
    "def normalOmega(loc, scale, n, seed=1234):\n",
    "    # We fix the seed to reproduce same results\n",
    "    np.random.seed(seed)\n",
    "    omega = np.array([])\n",
    "    r_pp = np.random.binomial(1, q, n)\n",
    "    \n",
    "    # Gaussian parameters\n",
    "    # mu_arr = np.array([loc * (((r_p-r_m)*r_pp[k]+r_m)**(k+1)) for k in range(n)])\n",
    "    mm = [loc]* n\n",
    "    for k in range(1,n):\n",
    "        mm[k] = mm[k-1] * (((r_p-r_m)*r_pp[k]+r_m))\n",
    "    mu_arr = np.array([mm[k] for k in range(n)])\n",
    "    sigma_arr = np.array([scale/np.sqrt(k+1) for k in range(n)])\n",
    "    \n",
    "    np.random.seed(seed)\n",
    "    omega = np.append(omega, [np.round_(np.random.normal(mu_arr[k], sigma_arr[k], 1), 2) for k in range(n)])\n",
    "    \n",
    "    return omega, mu_arr, sigma_arr"
   ]
  },
  {
   "cell_type": "code",
   "execution_count": 49,
   "id": "2f81cbca-677d-4bae-a816-7e6c347aa079",
   "metadata": {},
   "outputs": [
    {
     "data": {
      "text/plain": [
       "array([223.57, 159.89, 245.38, 198.24, 192.01, 228.31, 228.55, 198.93,\n",
       "       208.34, 170.54, 225.4 , 224.46, 225.46, 187.35, 212.19, 218.7 ,\n",
       "       225.77, 226.47, 240.45, 205.75, 223.06, 220.53, 231.82, 237.75,\n",
       "       242.96, 227.48, 240.9 , 219.57, 237.41, 251.17, 235.51, 244.46,\n",
       "       248.18, 250.42, 251.17, 245.29, 249.79, 243.66, 255.48, 265.16,\n",
       "       249.31, 246.84, 253.99, 240.61, 260.67, 254.79, 263.02, 266.79,\n",
       "       274.72, 273.54, 280.63, 267.46, 270.63, 282.38, 282.2 , 282.07,\n",
       "       288.21, 282.78, 283.86, 292.96, 279.57, 288.22, 293.5 , 293.17,\n",
       "       303.83, 285.62, 315.8 , 293.43, 304.64, 310.61, 304.8 , 315.28,\n",
       "       319.8 , 321.88, 316.68, 330.32, 323.29, 318.69, 332.02, 331.97,\n",
       "       337.65, 318.74, 342.29, 339.22, 342.66, 342.87, 352.75, 350.4 ,\n",
       "       350.04, 359.43, 356.03, 357.08, 357.43, 356.12, 366.91, 365.93,\n",
       "       368.26, 368.98, 364.6 , 371.12])"
      ]
     },
     "execution_count": 49,
     "metadata": {},
     "output_type": "execute_result"
    }
   ],
   "source": [
    "omega, mu_arr, sigma_arr = normalOmega(mu, sigma, N)\n",
    "omega"
   ]
  },
  {
   "cell_type": "markdown",
   "id": "668641af-83c5-4778-bb7e-083433c5f6c4",
   "metadata": {},
   "source": [
    "We define our probybility function, the probability of a free spot in the plane (economy section). We define $p(k)$ such that $p(k)>p(k+1)$."
   ]
  },
  {
   "cell_type": "code",
   "execution_count": 50,
   "id": "2775ab82-6344-41d2-9e59-2f4e854ddc30",
   "metadata": {},
   "outputs": [],
   "source": [
    "def p(k):\n",
    "    return pp/(k+1)"
   ]
  },
  {
   "cell_type": "markdown",
   "id": "ff393e03-a26d-45e2-b124-dbdcb055f229",
   "metadata": {},
   "source": [
    "We compute our $\\alpha_k$ to help compute the cost-to-go funtion as,\n",
    "\\begin{equation}\n",
    "    \\alpha_k = \\left\\{\n",
    "            \\begin{array}{ll}\n",
    "                C & \\text{if } k = N\\\\\n",
    "                \\mathbb{E}\\left[p(N-1)\\min\\left\\{\\omega_{N-1},C\\right\\} + (1-p(N-1))C\\right] & \\text{if } k = N-1\\\\\n",
    "                p(k)\\mathbb{E}_{\\omega_k}\\left[\\min\\left\\{\\omega_k,\\alpha_{k+1}\\right\\}\\right] + (1-p(k))\\mathbb{E}_{\\omega_k}\\left[\\min\\left\\{C,\\alpha_{k+1}\\right\\}\\right] & \\text{otherwise}.\n",
    "            \\end{array}\n",
    "        \\right.\n",
    "\\end{equation}"
   ]
  },
  {
   "cell_type": "code",
   "execution_count": 51,
   "id": "d644e0d9-0944-464b-b242-b23169e4892c",
   "metadata": {},
   "outputs": [],
   "source": [
    "def computeAlpha(mu_arr, sigma_arr):\n",
    "    alpha = np.zeros((N,), dtype=np.float64)\n",
    "    alpha[N-1] = C\n",
    "\n",
    "    for k in range(N-1,0,-1):\n",
    "        # integrand = lambda x:  min(x, alpha[k+1]) * np.exp(- 1/2 * ((x - mu_arr[k])/sigma_arr[k])**2) / (sigma_arr[k]*np.sqrt(2*np.pi))\n",
    "        integrand = lambda x:  min(x, alpha[k]) * np.exp(- 1/2 * ((x - mu_arr[k])/sigma_arr[k])**2) / (sigma_arr[k]*np.sqrt(2*np.pi))\n",
    "        expected_min = integrate.quad(integrand, -np.Inf, np.Inf)[0]\n",
    "\n",
    "        # alpha[k] = np.round_(p(k) * expected_min + (1-p(k)) * min(C, alpha[k+1]), 2)\n",
    "        alpha[k-1] = np.round_(p(k) * expected_min + (1-p(k)) * min(C, alpha[k]), 2)\n",
    "    \n",
    "    return alpha"
   ]
  },
  {
   "cell_type": "code",
   "execution_count": 52,
   "id": "da71e3b8-1fd3-41a4-9e06-e99c2ec32b4c",
   "metadata": {},
   "outputs": [
    {
     "data": {
      "text/plain": [
       "array([ 36.,  36.,  36.,  36.,  36.,  36.,  42.,  48.,  54.,  60.,  66.,\n",
       "        72.,  78.,  84.,  90.,  96., 102., 108., 114., 120., 126., 132.,\n",
       "       138., 144., 150., 156., 162., 168., 174., 180., 186., 192., 198.,\n",
       "       204., 210., 216., 222., 228., 234., 240., 246., 252., 258., 264.,\n",
       "       270., 276., 282., 288., 294., 300., 306., 312., 318., 324., 330.,\n",
       "       336., 342., 348., 354., 360., 366., 372., 378., 384., 390., 396.,\n",
       "       402., 408., 414., 420., 426., 432., 438., 444., 450., 456., 462.,\n",
       "       468., 474., 480., 486., 492., 498., 504., 510., 516., 522., 528.,\n",
       "       534., 540., 546., 552., 558., 564., 570., 576., 582., 588., 594.,\n",
       "       600.])"
      ]
     },
     "execution_count": 52,
     "metadata": {},
     "output_type": "execute_result"
    }
   ],
   "source": [
    "computeAlpha(mu_arr, sigma_arr)"
   ]
  },
  {
   "cell_type": "markdown",
   "id": "c2a1a7e1-506a-4f65-bdac-361fab220d69",
   "metadata": {},
   "source": [
    "#### Dynamic programming solution\n",
    "\n",
    "We use backward chaining to compute the cost-to-go starting from $k=N$,\n",
    "\\begin{equation}\n",
    "    \\hat{J}_{k}(\\tilde{x}_k) = p(k-1)\\min\\left\\{\\omega_{k-1},\\alpha_k\\right\\} + (1-p(k-1))\\min\\left\\{C,\\alpha_k\\right\\}.\n",
    "\\end{equation}"
   ]
  },
  {
   "cell_type": "code",
   "execution_count": 53,
   "id": "86d0c00f-1f60-421c-8a09-df86f34e39c8",
   "metadata": {},
   "outputs": [],
   "source": [
    "iterationNumb = 100\n",
    "lapTime = np.zeros((iterationNumb,), dtype=np.float64)\n",
    "exitLap = np.zeros((iterationNumb,), dtype=np.int64)\n",
    "\n",
    "for i in range(iterationNumb):\n",
    "    \n",
    "    # generate random variables omega\n",
    "    omega, mu_arr, sigma_arr = normalOmega(mu, sigma, N, i**2) #i**2\n",
    "\n",
    "    J = np.zeros((N,), dtype=np.float64)\n",
    "    u = np.zeros((N,), dtype=np.int64)\n",
    "\n",
    "    # J[-1] = omega[-1]\n",
    "    # u[-1] = 1\n",
    "\n",
    "    # exit index\n",
    "    exit = N\n",
    "    alpha = computeAlpha(mu_arr, sigma_arr)\n",
    "    \n",
    "    for k in reversed(range(0,N)):\n",
    "        # J[k-1] = p(k-1) * min(omega[k-1], alpha[k-1]) + (1-p(k-1)) * min(C, alpha[k-1])\n",
    "        J[k] = p(k) * min(omega[k], alpha[k]) + (1-p(k)) * min(C, alpha[k])\n",
    "        # u[k-1] = (omega[k-1] <= alpha[k-1] or C <= alpha[k-1])\n",
    "        u[k] = (omega[k] <= alpha[k] or C <= alpha[k])\n",
    "\n",
    "        # memorize exiting index\n",
    "        if u[k] == 1:\n",
    "            exit = k\n",
    "\n",
    "    # setting u to zeo after first u = 1\n",
    "    if exit < N:\n",
    "        u[exit+1:] = 0\n",
    "        \n",
    "    lapTime[i] = np.dot(J, u)\n",
    "    exitLap[i] = 1 + np.argmax(u)"
   ]
  },
  {
   "cell_type": "code",
   "execution_count": 54,
   "id": "8b467492-c30a-49cf-9054-4ce550cff88e",
   "metadata": {},
   "outputs": [
    {
     "name": "stdout",
     "output_type": "stream",
     "text": [
      "Average time: 255.38521856239916\n"
     ]
    }
   ],
   "source": [
    "print(f'Average time: {np.mean(lapTime)}')"
   ]
  },
  {
   "cell_type": "code",
   "execution_count": 55,
   "id": "ea6214d5-f385-4e9a-aa02-96e2d20fff72",
   "metadata": {},
   "outputs": [
    {
     "data": {
      "text/plain": [
       "array([33, 35, 36, 37, 38, 39, 40, 41, 42, 43, 44, 45, 46, 47, 48, 49, 51])"
      ]
     },
     "execution_count": 55,
     "metadata": {},
     "output_type": "execute_result"
    }
   ],
   "source": [
    "# exitLap\n",
    "unique, counts = np.unique(exitLap, return_counts=True)\n",
    "counts\n",
    "unique"
   ]
  },
  {
   "cell_type": "code",
   "execution_count": 56,
   "id": "1113e779-b562-4ae3-a835-d913d20a54bb",
   "metadata": {},
   "outputs": [
    {
     "data": {
      "image/png": "[encoded data removed]",
      "text/plain": [
       "<Figure size 432x288 with 1 Axes>"
      ]
     },
     "metadata": {
      "needs_background": "light"
     },
     "output_type": "display_data"
    }
   ],
   "source": [
    "fig = plt.figure()\n",
    "plt.plot(unique, counts, '-o')\n",
    "\n",
    "fig.suptitle('#1000 simulation', fontsize=20)\n",
    "plt.xlabel('lap', fontsize=18)\n",
    "plt.ylabel('count', fontsize=16)\n",
    "fig.savefig('plt1.jpg')\n",
    "\n",
    "plt.show()"
   ]
  },
  {
   "cell_type": "code",
   "execution_count": 57,
   "id": "b6044b98-594f-4d9f-9720-6f7c946ae53e",
   "metadata": {},
   "outputs": [
    {
     "data": {
      "text/plain": [
       "42.59"
      ]
     },
     "execution_count": 57,
     "metadata": {},
     "output_type": "execute_result"
    }
   ],
   "source": [
    "np.mean(exitLap)"
   ]
  },
  {
   "cell_type": "markdown",
   "id": "ac5c91c6-90e3-46a8-9fb4-85d6336c17db",
   "metadata": {},
   "source": [
    "# Approximate Method"
   ]
  },
  {
   "cell_type": "markdown",
   "id": "44b04500-37b5-44b9-85ad-e9782577ae91",
   "metadata": {},
   "source": [
    "##### Q = 10            # number of samples\n",
    "size = 100"
   ]
  },
  {
   "cell_type": "code",
   "execution_count": 58,
   "id": "dc29aee5-f8c3-43ce-a828-4a1a7ce13774",
   "metadata": {},
   "outputs": [],
   "source": [
    "Q = 10\n",
    "l = 2\n",
    "size = 100"
   ]
  },
  {
   "cell_type": "code",
   "execution_count": 15,
   "id": "8500b08f-0a8c-4c45-b54d-2dde92ccfd6a",
   "metadata": {},
   "outputs": [],
   "source": [
    "def linearArchitecture(N, Q, mu_arr, sigma_arr, l=2):\n",
    "    k = N-1\n",
    "    r_hat = np.zeros((N+1,l+1))\n",
    "    r_hat[-1] = [0 for i in range(l+1)]\n",
    "    r_hat[-1, 0] = C\n",
    "    while k >= 0:\n",
    "        s = 1\n",
    "        beta_k = np.zeros(Q)\n",
    "        phi_k = np.zeros((Q, size, l+1))\n",
    "        x_k_s = np.zeros(Q)\n",
    "        phi_ks = np.zeros((Q, l+1))\n",
    "        while s <= Q:\n",
    "            omega = np.round_(np.random.normal(mu_arr[k], sigma_arr[k], size), 2)\n",
    "            x_k_s[s-1] = np.random.normal(mu_arr[k], sigma_arr[k])\n",
    "            phi_ks[s-1] = np.array([x_k_s[s-1] ** i for i in range(l+1)])\n",
    "            g_k_s = p(k) * (x_k_s[s-1] - C) + C\n",
    "            phi_k[s-1] = np.array([(omega ** i).tolist() for i in range(l+1)]).T\n",
    "            beta_k[s-1] = np.mean(np.minimum(g_k_s, np.dot(phi_k[s-1], r_hat[k+1])), axis=0)\n",
    "            s = s+1\n",
    "\n",
    "        r_k = np.dot(np.linalg.inv(np.dot(phi_ks.T, phi_ks)), np.dot(beta_k, phi_ks))\n",
    "        r_hat[k] = r_k\n",
    "        # print(f\"k: {k}, r_hat: {r_k}\")\n",
    "        k = k-1\n",
    "    return r_hat"
   ]
  },
  {
   "cell_type": "code",
   "execution_count": 59,
   "id": "8cfc8e37-40dd-48d0-bb9b-b2a7390bb702",
   "metadata": {},
   "outputs": [],
   "source": [
    "def linearArchitecture(N, Q, mu_arr, sigma_arr, l=2):\n",
    "    k = N-1\n",
    "    r_hat = np.zeros((N+1,l+1))\n",
    "    r_hat[-1] = [0 for i in range(l+1)]\n",
    "    r_hat[-1, 0] = C\n",
    "    while k >= 0:\n",
    "        s = 1\n",
    "        beta_k = np.zeros(Q)\n",
    "        phi_k = np.zeros((Q, size, l+1))\n",
    "        x_k_s = np.zeros(Q)\n",
    "        phi_ks = np.zeros((Q, l+1))\n",
    "        while s <= Q:\n",
    "            omega = np.round_(np.random.normal(mu_arr[k+1], sigma_arr[k+1], size), 2)\n",
    "            x_k_s[s-1] = np.round_(np.random.normal(mu_arr[k], sigma_arr[k]), 2)\n",
    "            phi_ks[s-1] = np.array([x_k_s[s-1] ** i for i in range(l+1)])\n",
    "            # g_k_s = p(k) * (x_k_s[s-1] - C) + C\n",
    "            phi_k[s-1] = np.array([(omega ** i).tolist() for i in range(l+1)]).T\n",
    "            # beta_k[s-1] = np.mean(np.minimum(g_k_s, np.dot(phi_k[s-1], r_hat[k+1])), axis=0)\n",
    "            beta_k[s-1] = np.mean(p(k)*np.minimum(x_k_s[s-1], np.dot(phi_k[s-1], r_hat[k+1])) + (1-p(k))*np.minimum(C, np.dot(phi_k[s-1], r_hat[k+1])), axis=0)\n",
    "            s = s+1\n",
    "\n",
    "        r_k = np.dot(np.linalg.inv(np.dot(phi_ks.T, phi_ks)), np.dot(beta_k, phi_ks))\n",
    "        r_hat[k] = r_k\n",
    "        # print(f\"k: {k}, r_hat: {r_k}\")\n",
    "        k = k-1\n",
    "    return r_hat"
   ]
  },
  {
   "cell_type": "code",
   "execution_count": 60,
   "id": "76d51252-4d53-4409-8dc7-935b26ea398c",
   "metadata": {},
   "outputs": [
    {
     "ename": "TypeError",
     "evalue": "linearArchitecture() missing 2 required positional arguments: 'mu_arr' and 'sigma_arr'",
     "output_type": "error",
     "traceback": [
      "\u001b[0;31m---------------------------------------------------------------------------\u001b[0m",
      "\u001b[0;31mTypeError\u001b[0m                                 Traceback (most recent call last)",
      "Input \u001b[0;32mIn [60]\u001b[0m, in \u001b[0;36m<module>\u001b[0;34m\u001b[0m\n\u001b[0;32m----> 1\u001b[0m test \u001b[38;5;241m=\u001b[39m \u001b[43mlinearArchitecture\u001b[49m\u001b[43m(\u001b[49m\u001b[43mN\u001b[49m\u001b[43m,\u001b[49m\u001b[43m \u001b[49m\u001b[43mQ\u001b[49m\u001b[43m,\u001b[49m\u001b[43m \u001b[49m\u001b[43ml\u001b[49m\u001b[38;5;241;43m=\u001b[39;49m\u001b[38;5;241;43m1\u001b[39;49m\u001b[43m)\u001b[49m\n",
      "\u001b[0;31mTypeError\u001b[0m: linearArchitecture() missing 2 required positional arguments: 'mu_arr' and 'sigma_arr'"
     ]
    }
   ],
   "source": [
    "test = linearArchitecture(N, Q, l=1)"
   ]
  },
  {
   "cell_type": "code",
   "execution_count": 61,
   "id": "4cd68f93-0cba-4483-ac34-9ccb12507482",
   "metadata": {},
   "outputs": [],
   "source": [
    "# iterationNumb = \n",
    "# N = 10\n",
    "l=1\n",
    "u_iter = np.zeros(iterationNumb)\n",
    "buying_price = np.zeros(iterationNumb)\n",
    "\n",
    "t_online = np.zeros(iterationNumb)\n",
    "t_offline = np.zeros(iterationNumb)"
   ]
  },
  {
   "cell_type": "code",
   "execution_count": 62,
   "id": "449a7f63-1e9c-48fb-9bce-931df0e7ab62",
   "metadata": {},
   "outputs": [
    {
     "ename": "IndexError",
     "evalue": "index 100 is out of bounds for axis 0 with size 100",
     "output_type": "error",
     "traceback": [
      "\u001b[0;31m---------------------------------------------------------------------------\u001b[0m",
      "\u001b[0;31mIndexError\u001b[0m                                Traceback (most recent call last)",
      "Input \u001b[0;32mIn [62]\u001b[0m, in \u001b[0;36m<module>\u001b[0;34m\u001b[0m\n\u001b[1;32m      6\u001b[0m k \u001b[38;5;241m=\u001b[39m \u001b[38;5;241m0\u001b[39m\n\u001b[1;32m      7\u001b[0m J_arr \u001b[38;5;241m=\u001b[39m np\u001b[38;5;241m.\u001b[39mzeros(N)\n\u001b[0;32m----> 8\u001b[0m r_hat \u001b[38;5;241m=\u001b[39m \u001b[43mlinearArchitecture\u001b[49m\u001b[43m(\u001b[49m\u001b[43mN\u001b[49m\u001b[43m,\u001b[49m\u001b[43m \u001b[49m\u001b[43mQ\u001b[49m\u001b[43m,\u001b[49m\u001b[43m \u001b[49m\u001b[43mmu_arr\u001b[49m\u001b[43m,\u001b[49m\u001b[43m \u001b[49m\u001b[43msigma_arr\u001b[49m\u001b[43m,\u001b[49m\u001b[43m \u001b[49m\u001b[43ml\u001b[49m\u001b[43m)\u001b[49m\n\u001b[1;32m      9\u001b[0m t_offline[i] \u001b[38;5;241m=\u001b[39m time\u001b[38;5;241m.\u001b[39mtime() \u001b[38;5;241m-\u001b[39m t\n\u001b[1;32m     10\u001b[0m t \u001b[38;5;241m=\u001b[39m time\u001b[38;5;241m.\u001b[39mtime()\n",
      "Input \u001b[0;32mIn [59]\u001b[0m, in \u001b[0;36mlinearArchitecture\u001b[0;34m(N, Q, mu_arr, sigma_arr, l)\u001b[0m\n\u001b[1;32m     11\u001b[0m phi_ks \u001b[38;5;241m=\u001b[39m np\u001b[38;5;241m.\u001b[39mzeros((Q, l\u001b[38;5;241m+\u001b[39m\u001b[38;5;241m1\u001b[39m))\n\u001b[1;32m     12\u001b[0m \u001b[38;5;28;01mwhile\u001b[39;00m s \u001b[38;5;241m<\u001b[39m\u001b[38;5;241m=\u001b[39m Q:\n\u001b[0;32m---> 13\u001b[0m     omega \u001b[38;5;241m=\u001b[39m np\u001b[38;5;241m.\u001b[39mround_(np\u001b[38;5;241m.\u001b[39mrandom\u001b[38;5;241m.\u001b[39mnormal(\u001b[43mmu_arr\u001b[49m\u001b[43m[\u001b[49m\u001b[43mk\u001b[49m\u001b[38;5;241;43m+\u001b[39;49m\u001b[38;5;241;43m1\u001b[39;49m\u001b[43m]\u001b[49m, sigma_arr[k\u001b[38;5;241m+\u001b[39m\u001b[38;5;241m1\u001b[39m], size), \u001b[38;5;241m2\u001b[39m)\n\u001b[1;32m     14\u001b[0m     x_k_s[s\u001b[38;5;241m-\u001b[39m\u001b[38;5;241m1\u001b[39m] \u001b[38;5;241m=\u001b[39m np\u001b[38;5;241m.\u001b[39mround_(np\u001b[38;5;241m.\u001b[39mrandom\u001b[38;5;241m.\u001b[39mnormal(mu_arr[k], sigma_arr[k]), \u001b[38;5;241m2\u001b[39m)\n\u001b[1;32m     15\u001b[0m     phi_ks[s\u001b[38;5;241m-\u001b[39m\u001b[38;5;241m1\u001b[39m] \u001b[38;5;241m=\u001b[39m np\u001b[38;5;241m.\u001b[39marray([x_k_s[s\u001b[38;5;241m-\u001b[39m\u001b[38;5;241m1\u001b[39m] \u001b[38;5;241m*\u001b[39m\u001b[38;5;241m*\u001b[39m i \u001b[38;5;28;01mfor\u001b[39;00m i \u001b[38;5;129;01min\u001b[39;00m \u001b[38;5;28mrange\u001b[39m(l\u001b[38;5;241m+\u001b[39m\u001b[38;5;241m1\u001b[39m)])\n",
      "\u001b[0;31mIndexError\u001b[0m: index 100 is out of bounds for axis 0 with size 100"
     ]
    }
   ],
   "source": [
    "for i in range(iterationNumb):  \n",
    "    omega, mu_arr, sigma_arr = normalOmega(mu, sigma, N, i**2)\n",
    "    \n",
    "    t = time.time()\n",
    "    u = np.zeros(N)\n",
    "    k = 0\n",
    "    J_arr = np.zeros(N)\n",
    "    r_hat = linearArchitecture(N, Q, mu_arr, sigma_arr, l)\n",
    "    t_offline[i] = time.time() - t\n",
    "    t = time.time()\n",
    "    while k < N:\n",
    "        # c = p(k) * (omega[k] - C) + C\n",
    "        J = np.dot(r_hat[k], np.array([omega[k] ** i for i in range(l+1)]))\n",
    "        # if c < J:\n",
    "        if C < J or omega[k] < J:\n",
    "            u[k] = 1 # buy ticket\n",
    "            J_arr[k] = min(omega[k], C)\n",
    "            break\n",
    "        k = k + 1\n",
    "    \n",
    "    # if we don't buy at all, then we buy at the last day\n",
    "    if np.any(u) == 0:\n",
    "        u[-1] = 1\n",
    "        J_arr[-1] = omega[-1]\n",
    "        \n",
    "    u_iter[i] = np.argmax(u)+1\n",
    "    buying_price[i] = np.sum(J_arr*u)\n",
    "    t_online[i] = time.time() - t"
   ]
  },
  {
   "cell_type": "code",
   "execution_count": 20,
   "id": "f76a3fa7-31e0-4374-9306-bcf0aac01fd1",
   "metadata": {},
   "outputs": [
    {
     "data": {
      "text/plain": [
       "1.54"
      ]
     },
     "execution_count": 20,
     "metadata": {},
     "output_type": "execute_result"
    }
   ],
   "source": [
    "np.mean(u_iter)"
   ]
  },
  {
   "cell_type": "code",
   "execution_count": 21,
   "id": "03664969-ac97-4088-a44f-35294de0f8c9",
   "metadata": {},
   "outputs": [
    {
     "data": {
      "text/plain": [
       "array([1., 2.])"
      ]
     },
     "execution_count": 21,
     "metadata": {},
     "output_type": "execute_result"
    }
   ],
   "source": [
    "unique, counts = np.unique(u_iter, return_counts=True)\n",
    "counts\n",
    "unique"
   ]
  },
  {
   "cell_type": "code",
   "execution_count": 22,
   "id": "ca1c3c79-6816-42a9-8e6a-d1becd5d2eb7",
   "metadata": {},
   "outputs": [
    {
     "data": {
      "image/png": "[encoded data removed]",
      "text/plain": [
       "<Figure size 432x288 with 1 Axes>"
      ]
     },
     "metadata": {
      "needs_background": "light"
     },
     "output_type": "display_data"
    }
   ],
   "source": [
    "fig = plt.figure()\n",
    "plt.plot(unique, counts, '-o')\n",
    "\n",
    "fig.suptitle('#1000 simulation', fontsize=20)\n",
    "plt.xlabel('lap', fontsize=18)\n",
    "plt.ylabel('count', fontsize=16)\n",
    "fig.savefig('plt1.jpg')\n",
    "\n",
    "plt.show()"
   ]
  },
  {
   "cell_type": "code",
   "execution_count": null,
   "id": "df957731-20ad-4d26-adc4-8b5421d09816",
   "metadata": {},
   "outputs": [],
   "source": []
  }
 ],
 "metadata": {
  "kernelspec": {
   "display_name": "Python 3 (ipykernel)",
   "language": "python",
   "name": "python3"
  },
  "language_info": {
   "codemirror_mode": {
    "name": "ipython",
    "version": 3
   },
   "file_extension": ".py",
   "mimetype": "text/x-python",
   "name": "python",
   "nbconvert_exporter": "python",
   "pygments_lexer": "ipython3",
   "version": "3.9.10"
  }
 },
 "nbformat": 4,
 "nbformat_minor": 5
}
